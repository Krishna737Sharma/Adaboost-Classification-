{
  "nbformat": 4,
  "nbformat_minor": 0,
  "metadata": {
    "colab": {
      "provenance": [],
      "include_colab_link": true
    },
    "kernelspec": {
      "name": "python3",
      "display_name": "Python 3"
    },
    "language_info": {
      "name": "python"
    }
  },
  "cells": [
    {
      "cell_type": "markdown",
      "metadata": {
        "id": "view-in-github",
        "colab_type": "text"
      },
      "source": [
        "<a href=\"https://colab.research.google.com/github/Krishna737Sharma/Adaboost-Classification-/blob/main/main.ipynb\" target=\"_parent\"><img src=\"https://colab.research.google.com/assets/colab-badge.svg\" alt=\"Open In Colab\"/></a>"
      ]
    },
    {
      "cell_type": "code",
      "source": [
        "!pip -q install ucimlrepo"
      ],
      "metadata": {
        "id": "dqjXApRn3N51"
      },
      "execution_count": null,
      "outputs": []
    },
    {
      "cell_type": "code",
      "source": [
        "# Suppress all warnings\n",
        "import warnings\n",
        "warnings.filterwarnings(\"ignore\")"
      ],
      "metadata": {
        "id": "EnKrdRXi55MZ"
      },
      "execution_count": null,
      "outputs": []
    },
    {
      "cell_type": "markdown",
      "source": [
        "TASK - 1: Load the UCI zoo dataset from https://archive.ics.uci.edu/dataset/111/zoo  <font color='red'>[MARK - 1]</font>"
      ],
      "metadata": {
        "id": "RLpyzYIekJJp"
      }
    },
    {
      "cell_type": "code",
      "source": [
        "from ucimlrepo import fetch_ucirepo\n",
        "\n",
        "# fetch dataset\n",
        "zoo = fetch_ucirepo(id=111)\n",
        "\n",
        "# data (as pandas dataframes)\n",
        "X = zoo.data.features\n",
        "y = zoo.data.targets\n",
        "\n",
        "# metadata\n",
        "# print(zoo.metadata)\n",
        "\n",
        "# variable information\n",
        "# print(zoo.variables)"
      ],
      "metadata": {
        "id": "2wpCW-Ov3Qag"
      },
      "execution_count": null,
      "outputs": []
    },
    {
      "cell_type": "code",
      "execution_count": null,
      "metadata": {
        "id": "-Rsb3n812wyJ"
      },
      "outputs": [],
      "source": [
        "import pandas as pd\n",
        "url = \"https://archive.ics.uci.edu/static/public/111/data.csv\"\n",
        "data = pd.read_csv(url)"
      ]
    },
    {
      "cell_type": "markdown",
      "source": [
        "TASK - 2: Check the dataset for missing or duplicate values and handle them appropriately.    <font color='red'>[MARK - 1]</font>"
      ],
      "metadata": {
        "id": "uPAgrFP8ktKx"
      }
    },
    {
      "cell_type": "code",
      "source": [
        "# Check for missing values\n",
        "print(data.isnull().sum())\n",
        "\n",
        "# Check for duplicate values\n",
        "print(data.duplicated().sum())"
      ],
      "metadata": {
        "colab": {
          "base_uri": "https://localhost:8080/"
        },
        "id": "FZpHtMDg3rEV",
        "outputId": "f0d05718-7f60-487d-ee9f-87ffe59875a3"
      },
      "execution_count": null,
      "outputs": [
        {
          "output_type": "stream",
          "name": "stdout",
          "text": [
            "animal_name    0\n",
            "hair           0\n",
            "feathers       0\n",
            "eggs           0\n",
            "milk           0\n",
            "airborne       0\n",
            "aquatic        0\n",
            "predator       0\n",
            "toothed        0\n",
            "backbone       0\n",
            "breathes       0\n",
            "venomous       0\n",
            "fins           0\n",
            "legs           0\n",
            "tail           0\n",
            "domestic       0\n",
            "catsize        0\n",
            "type           0\n",
            "dtype: int64\n",
            "0\n"
          ]
        }
      ]
    },
    {
      "cell_type": "code",
      "source": [
        "# # Remove duplicates\n",
        "# data = data.drop_duplicates()\n",
        "\n",
        "# # Handle missing values (if any)\n",
        "# data = data.fillna(data.mean())"
      ],
      "metadata": {
        "id": "jiVVjLhz3r6z"
      },
      "execution_count": null,
      "outputs": []
    },
    {
      "cell_type": "markdown",
      "source": [
        "TASK - 3: Show the class distribution of the dataset.     <font color='red'>[MARK - 1]</font>"
      ],
      "metadata": {
        "id": "OB79Zhrxk44d"
      }
    },
    {
      "cell_type": "code",
      "source": [
        "# Class distribution\n",
        "print(data['type'].value_counts())\n",
        "print(\"-------------------------------\\n\")\n",
        "print(data['type'].value_counts(normalize=True))"
      ],
      "metadata": {
        "colab": {
          "base_uri": "https://localhost:8080/"
        },
        "id": "ejq5Fcjr3yYl",
        "outputId": "787eba0f-d47a-4a7c-945d-e94e8530b69f"
      },
      "execution_count": null,
      "outputs": [
        {
          "output_type": "stream",
          "name": "stdout",
          "text": [
            "type\n",
            "1    41\n",
            "2    20\n",
            "4    13\n",
            "7    10\n",
            "6     8\n",
            "3     5\n",
            "5     4\n",
            "Name: count, dtype: int64\n",
            "-------------------------------\n",
            "\n",
            "type\n",
            "1    0.405941\n",
            "2    0.198020\n",
            "4    0.128713\n",
            "7    0.099010\n",
            "6    0.079208\n",
            "3    0.049505\n",
            "5    0.039604\n",
            "Name: proportion, dtype: float64\n"
          ]
        }
      ]
    },
    {
      "cell_type": "markdown",
      "source": [
        "TASK - 4: Split the data into training and test sets (80%-20%).      <font color='red'>[MARK - 1]</font>"
      ],
      "metadata": {
        "id": "ZY2vg5Sxn42Y"
      }
    },
    {
      "cell_type": "code",
      "source": [
        "from sklearn.model_selection import train_test_split\n",
        "\n",
        "# Separate features and target\n",
        "X = data.drop(['animal_name', 'type'], axis=1)\n",
        "y = data['type']\n",
        "\n",
        "# Split the data\n",
        "X_train, X_test, y_train, y_test = train_test_split(X, y, test_size=0.2, random_state=42)"
      ],
      "metadata": {
        "id": "G0h1cn5t34qS"
      },
      "execution_count": null,
      "outputs": []
    },
    {
      "cell_type": "markdown",
      "source": [
        "TASK - 5: Implement Adaboost classifier from scratch for binary classification using decision tree stumps as the base estimator. Use an appropriate value of the number of base estimators.   <font color='red'>[MARK - 5]</font>"
      ],
      "metadata": {
        "id": "mdzPFiuNoF-h"
      }
    },
    {
      "cell_type": "code",
      "source": [
        "import numpy as np\n",
        "from sklearn.tree import DecisionTreeClassifier\n",
        "\n",
        "class AdaBoostBinary:\n",
        "    def __init__(self, n_estimators=50, epsilon=1e-10):\n",
        "        self.n_estimators = n_estimators\n",
        "        self.epsilon = epsilon  # Small value to prevent division by zero\n",
        "\n",
        "    def fit(self, X, y):\n",
        "        self.alphas = []\n",
        "        self.models = []\n",
        "        weights = np.ones(len(y)) / len(y)  # Initialize uniform weights for all samples\n",
        "\n",
        "        for _ in range(self.n_estimators):\n",
        "            model = DecisionTreeClassifier(max_depth=1)  # Decision stump\n",
        "            model.fit(X, y, sample_weight=weights)\n",
        "            preds = model.predict(X)\n",
        "\n",
        "            # Compute error\n",
        "            err = np.sum(weights * (preds != y)) / np.sum(weights)\n",
        "\n",
        "            # If error is 0, set alpha to a large number\n",
        "            if err == 0:\n",
        "                alpha = 1e10  # Large value since the classifier is perfect\n",
        "            else:\n",
        "                alpha = 0.5 * np.log((1 - err) / (err + self.epsilon))  # Avoid dividing by zero\n",
        "\n",
        "            self.alphas.append(alpha)\n",
        "            self.models.append(model)\n",
        "\n",
        "            # Update weights\n",
        "            weights = weights * np.exp(-alpha * y * preds)\n",
        "            weights = np.maximum(weights, self.epsilon)  # Prevent negative weights\n",
        "            weights = weights / np.sum(weights)  # Normalize weights\n",
        "\n",
        "    def predict(self, X):\n",
        "        # Calculate the weighted sum of predictions\n",
        "        weak_preds = np.zeros((X.shape[0], len(self.models)))\n",
        "        for i, model in enumerate(self.models):\n",
        "            weak_preds[:, i] = model.predict(X)\n",
        "\n",
        "        weighted_preds = np.dot(weak_preds, self.alphas)  # Weighted sum of predictions\n",
        "        return weighted_preds"
      ],
      "metadata": {
        "id": "cxN0zaHH39A1"
      },
      "execution_count": null,
      "outputs": []
    },
    {
      "cell_type": "markdown",
      "source": [
        "TASK - 6: Train 7 Adaboost classifiers for the 7 classes for the one vs. all classification technique using the binary adaboost classifier you implemented from scratch. For each classifier, handle the labels appropriately. For example, for the first classifier, all samples belonging to class 1 will have label y=+1, and all other samples will have label y = -1. Similarly, for the second classifier, all samples belonging to “class 2” will have label +1, and samples belonging to all other classes would be assigned label –1. YPerform prediction on the test set using the 7 classifiers.   <font color='red'>[MARK - 4]</font>"
      ],
      "metadata": {
        "id": "Qg1XrgDhoyeg"
      }
    },
    {
      "cell_type": "code",
      "source": [
        "from sklearn.metrics import accuracy_score, precision_score, recall_score, f1_score\n",
        "\n",
        "n_classes = len(data['type'].unique())\n",
        "classifiers = []\n",
        "for i in range(1, n_classes + 1):\n",
        "    # Create binary labels for class i (class i is +1, all other classes are -1)\n",
        "    y_train_binary = np.where(y_train == i, 1, -1)\n",
        "    y_test_binary = np.where(y_test == i, 1, -1)\n",
        "\n",
        "    # Train Adaboost binary classifier\n",
        "    clf = AdaBoostBinary(n_estimators=50)\n",
        "    clf.fit(X_train, y_train_binary)\n",
        "\n",
        "    classifiers.append((clf, i))\n",
        "\n",
        "    # Predict and calculate accuracy\n",
        "    y_pred = np.sign(clf.predict(X_test))\n",
        "    print(f\"Accuracy for class {i}: {accuracy_score(y_test_binary, y_pred)}\")"
      ],
      "metadata": {
        "colab": {
          "base_uri": "https://localhost:8080/"
        },
        "id": "9yAlB-I44UUN",
        "outputId": "8766081c-fb37-4636-a4e9-32a45a14c811"
      },
      "execution_count": null,
      "outputs": [
        {
          "output_type": "stream",
          "name": "stdout",
          "text": [
            "Accuracy for class 1: 1.0\n",
            "Accuracy for class 2: 1.0\n",
            "Accuracy for class 3: 0.9523809523809523\n",
            "Accuracy for class 4: 1.0\n",
            "Accuracy for class 5: 1.0\n",
            "Accuracy for class 6: 1.0\n",
            "Accuracy for class 7: 1.0\n"
          ]
        }
      ]
    },
    {
      "cell_type": "markdown",
      "source": [
        "TASK - 7: Compute the classification metrics – accuracy, precision recall.   <font color='red'>[MARK - 3]</font>"
      ],
      "metadata": {
        "id": "8Xa52G3wpZiy"
      }
    },
    {
      "cell_type": "code",
      "source": [
        "def predict_one_vs_all(classifiers, X):\n",
        "    preds = np.zeros((X.shape[0], len(classifiers)))\n",
        "    for i, (clf, class_id) in enumerate(classifiers):\n",
        "        preds[:, i] = clf.predict(X)\n",
        "\n",
        "    # Predicted class is the one with the highest weighted sum\n",
        "    return np.argmax(preds, axis=1) + 1  # +1 because class labels start from 1\n",
        "\n",
        "y_pred_all = predict_one_vs_all(classifiers, X_test)\n",
        "print(f\"Overall Accuracy: {accuracy_score(y_test, y_pred_all)}\")\n",
        "print(f\"Overall Precision: {precision_score(y_test, y_pred_all, average='weighted')}\")\n",
        "print(f\"Overall Recall: {recall_score(y_test, y_pred_all, average='weighted')}\")\n",
        "print(f\"Overall F1-score: {f1_score(y_test, y_pred_all, average='weighted')}\")"
      ],
      "metadata": {
        "colab": {
          "base_uri": "https://localhost:8080/"
        },
        "id": "Eik4MN4g47Tf",
        "outputId": "f23c5c95-3a3e-4438-b16e-a606f661947a"
      },
      "execution_count": null,
      "outputs": [
        {
          "output_type": "stream",
          "name": "stdout",
          "text": [
            "Overall Accuracy: 0.9523809523809523\n",
            "Overall Precision: 0.9206349206349207\n",
            "Overall Recall: 0.9523809523809523\n",
            "Overall F1-score: 0.9333333333333333\n"
          ]
        }
      ]
    },
    {
      "cell_type": "markdown",
      "source": [
        "TASK - 8: Perform classification using scikit-learn’s adaboost classifer and the OneVsRest() method: https://scikit-learn.org/1.5/modules/generated/sklearn.multiclass.OneVsRestClassifier.html  <font color='red'>[MARK - 2]</font>"
      ],
      "metadata": {
        "id": "K3TTNC9cqfyv"
      }
    },
    {
      "cell_type": "code",
      "source": [
        "from sklearn.ensemble import AdaBoostClassifier\n",
        "from sklearn.multiclass import OneVsRestClassifier\n",
        "\n",
        "# Train Adaboost classifier using OneVsRest\n",
        "clf_sklearn = OneVsRestClassifier(AdaBoostClassifier(n_estimators=50))\n",
        "clf_sklearn.fit(X_train, y_train)\n",
        "\n",
        "# Predict and evaluate\n",
        "y_pred_sklearn = clf_sklearn.predict(X_test)\n",
        "print(f\"Scikit-learn Accuracy: {accuracy_score(y_test, y_pred_sklearn)}\")"
      ],
      "metadata": {
        "colab": {
          "base_uri": "https://localhost:8080/"
        },
        "id": "cDsqYChA5E_e",
        "outputId": "b0dcd126-919b-47f4-9ca6-c31a3c698450"
      },
      "execution_count": null,
      "outputs": [
        {
          "output_type": "stream",
          "name": "stdout",
          "text": [
            "Scikit-learn Accuracy: 0.9523809523809523\n"
          ]
        }
      ]
    },
    {
      "cell_type": "markdown",
      "source": [
        "TASK - 9: Compute the performance obtained with scikit-learn's implementation and compare with your from-scratch implementation.   <font color='red'>[MARK - 2]</font>"
      ],
      "metadata": {
        "id": "nXinsVePrgqV"
      }
    },
    {
      "cell_type": "code",
      "source": [
        "from sklearn.metrics import precision_score, recall_score, f1_score\n",
        "\n",
        "print(\"Performance metrics with scratch AdaBoost\\n\")\n",
        "print(f\"Custom Adaboost Accuracy: {accuracy_score(y_test, y_pred_all)}\")\n",
        "precision_custom = precision_score(y_test, y_pred_all, average='weighted')\n",
        "recall_custom = recall_score(y_test, y_pred_all, average='weighted')\n",
        "f1_custom = f1_score(y_test, y_pred_all, average='weighted')\n",
        "print(f\"Custom Precision: {precision_custom}, Recall: {recall_custom}, F1: {f1_custom}\")\n",
        "print(\"------------------------------------------------------------------------------------------------\\n\")\n",
        "\n",
        "print(\"Performance metrics with Scikit-learn AdaBoost\\n\")\n",
        "print(f\"Scikit-learn Adaboost Accuracy: {accuracy_score(y_test, y_pred_sklearn)}\")\n",
        "precision_sklearn = precision_score(y_test, y_pred_sklearn, average='weighted')\n",
        "recall_sklearn = recall_score(y_test, y_pred_sklearn, average='weighted')\n",
        "f1_sklearn = f1_score(y_test, y_pred_sklearn, average='weighted')\n",
        "print(f\"Scikit-learn Precision: {precision_sklearn}, Recall: {recall_sklearn}, F1: {f1_sklearn}\")"
      ],
      "metadata": {
        "colab": {
          "base_uri": "https://localhost:8080/"
        },
        "id": "mfPGwxou5Z6k",
        "outputId": "e1670d64-f73f-44d1-e9f9-c9ef4b592f9b"
      },
      "execution_count": null,
      "outputs": [
        {
          "output_type": "stream",
          "name": "stdout",
          "text": [
            "Performance metrics with scratch AdaBoost\n",
            "\n",
            "Custom Adaboost Accuracy: 0.9523809523809523\n",
            "Custom Precision: 0.9206349206349207, Recall: 0.9523809523809523, F1: 0.9333333333333333\n",
            "------------------------------------------------------------------------------------------------\n",
            "\n",
            "Performance metrics with Scikit-learn AdaBoost\n",
            "\n",
            "Scikit-learn Adaboost Accuracy: 0.9523809523809523\n",
            "Scikit-learn Precision: 0.9285714285714286, Recall: 0.9523809523809523, F1: 0.9365079365079365\n"
          ]
        }
      ]
    }
  ]
}